{
 "cells": [
  {
   "cell_type": "markdown",
   "id": "2618ac89-dbbc-4d3e-acad-5db1bb35e48d",
   "metadata": {},
   "source": [
    "### Paris Olympics 2024 Total Medals Tally"
   ]
  },
  {
   "cell_type": "code",
   "execution_count": 1,
   "id": "f3e87f70-6a89-4569-9882-22af61bc3490",
   "metadata": {},
   "outputs": [
    {
     "name": "stderr",
     "output_type": "stream",
     "text": [
      "d:\\Users\\hi\\anaconda3\\Lib\\site-packages\\pandas\\core\\arrays\\masked.py:60: UserWarning: Pandas requires version '1.3.6' or newer of 'bottleneck' (version '1.3.5' currently installed).\n",
      "  from pandas.core import (\n"
     ]
    }
   ],
   "source": [
    "import numpy as np\n",
    "import pandas as pd\n",
    "import matplotlib.pyplot as plt\n",
    "import seaborn as sns\n",
    "import warnings "
   ]
  },
  {
   "cell_type": "code",
   "execution_count": 4,
   "id": "05025498-f291-4ad4-a5b8-9df892659f49",
   "metadata": {},
   "outputs": [],
   "source": [
    "df=pd.read_csv(\"ParisOlmypics .csv\")"
   ]
  },
  {
   "cell_type": "code",
   "execution_count": 5,
   "id": "af089f8b-0181-48e0-9c88-2946fd9247c5",
   "metadata": {},
   "outputs": [
    {
     "data": {
      "text/html": [
       "<div>\n",
       "<style scoped>\n",
       "    .dataframe tbody tr th:only-of-type {\n",
       "        vertical-align: middle;\n",
       "    }\n",
       "\n",
       "    .dataframe tbody tr th {\n",
       "        vertical-align: top;\n",
       "    }\n",
       "\n",
       "    .dataframe thead th {\n",
       "        text-align: right;\n",
       "    }\n",
       "</style>\n",
       "<table border=\"1\" class=\"dataframe\">\n",
       "  <thead>\n",
       "    <tr style=\"text-align: right;\">\n",
       "      <th></th>\n",
       "      <th>Position</th>\n",
       "      <th>Country</th>\n",
       "      <th>Gold</th>\n",
       "      <th>Silver</th>\n",
       "      <th>Bronze</th>\n",
       "      <th>Total Medals</th>\n",
       "    </tr>\n",
       "  </thead>\n",
       "  <tbody>\n",
       "    <tr>\n",
       "      <th>0</th>\n",
       "      <td>1</td>\n",
       "      <td>United States (USA)</td>\n",
       "      <td>40</td>\n",
       "      <td>44</td>\n",
       "      <td>43</td>\n",
       "      <td>127</td>\n",
       "    </tr>\n",
       "    <tr>\n",
       "      <th>1</th>\n",
       "      <td>2</td>\n",
       "      <td>China (CHN)</td>\n",
       "      <td>40</td>\n",
       "      <td>27</td>\n",
       "      <td>24</td>\n",
       "      <td>91</td>\n",
       "    </tr>\n",
       "    <tr>\n",
       "      <th>2</th>\n",
       "      <td>3</td>\n",
       "      <td>Japan (JPN)</td>\n",
       "      <td>20</td>\n",
       "      <td>12</td>\n",
       "      <td>13</td>\n",
       "      <td>45</td>\n",
       "    </tr>\n",
       "    <tr>\n",
       "      <th>3</th>\n",
       "      <td>4</td>\n",
       "      <td>Australia (AUS)</td>\n",
       "      <td>18</td>\n",
       "      <td>19</td>\n",
       "      <td>16</td>\n",
       "      <td>53</td>\n",
       "    </tr>\n",
       "    <tr>\n",
       "      <th>4</th>\n",
       "      <td>5</td>\n",
       "      <td>France (FRA)</td>\n",
       "      <td>16</td>\n",
       "      <td>26</td>\n",
       "      <td>22</td>\n",
       "      <td>64</td>\n",
       "    </tr>\n",
       "  </tbody>\n",
       "</table>\n",
       "</div>"
      ],
      "text/plain": [
       "   Position              Country  Gold  Silver  Bronze  Total Medals\n",
       "0         1  United States (USA)    40      44      43           127\n",
       "1         2          China (CHN)    40      27      24            91\n",
       "2         3          Japan (JPN)    20      12      13            45\n",
       "3         4      Australia (AUS)    18      19      16            53\n",
       "4         5         France (FRA)    16      26      22            64"
      ]
     },
     "execution_count": 5,
     "metadata": {},
     "output_type": "execute_result"
    }
   ],
   "source": [
    "df.head()"
   ]
  },
  {
   "cell_type": "code",
   "execution_count": 2,
   "id": "a352a05e-77c6-4eaa-92ea-0dc9b140bae0",
   "metadata": {},
   "outputs": [
    {
     "ename": "NameError",
     "evalue": "name 'df' is not defined",
     "output_type": "error",
     "traceback": [
      "\u001b[1;31m---------------------------------------------------------------------------\u001b[0m",
      "\u001b[1;31mNameError\u001b[0m                                 Traceback (most recent call last)",
      "Cell \u001b[1;32mIn[2], line 1\u001b[0m\n\u001b[1;32m----> 1\u001b[0m df\u001b[38;5;241m.\u001b[39minfo()\n",
      "\u001b[1;31mNameError\u001b[0m: name 'df' is not defined"
     ]
    }
   ],
   "source": [
    "df.info()"
   ]
  },
  {
   "cell_type": "code",
   "execution_count": 8,
   "id": "f43eacb1-b3a5-499c-91e4-fb71a6b6ffe7",
   "metadata": {},
   "outputs": [
    {
     "data": {
      "text/html": [
       "<div>\n",
       "<style scoped>\n",
       "    .dataframe tbody tr th:only-of-type {\n",
       "        vertical-align: middle;\n",
       "    }\n",
       "\n",
       "    .dataframe tbody tr th {\n",
       "        vertical-align: top;\n",
       "    }\n",
       "\n",
       "    .dataframe thead th {\n",
       "        text-align: right;\n",
       "    }\n",
       "</style>\n",
       "<table border=\"1\" class=\"dataframe\">\n",
       "  <thead>\n",
       "    <tr style=\"text-align: right;\">\n",
       "      <th></th>\n",
       "      <th>Position</th>\n",
       "      <th>Gold</th>\n",
       "      <th>Silver</th>\n",
       "      <th>Bronze</th>\n",
       "      <th>Total Medals</th>\n",
       "    </tr>\n",
       "  </thead>\n",
       "  <tbody>\n",
       "    <tr>\n",
       "      <th>count</th>\n",
       "      <td>90.000000</td>\n",
       "      <td>90.000000</td>\n",
       "      <td>90.000000</td>\n",
       "      <td>90.000000</td>\n",
       "      <td>90.000000</td>\n",
       "    </tr>\n",
       "    <tr>\n",
       "      <th>mean</th>\n",
       "      <td>45.500000</td>\n",
       "      <td>3.644444</td>\n",
       "      <td>3.622222</td>\n",
       "      <td>4.288889</td>\n",
       "      <td>11.555556</td>\n",
       "    </tr>\n",
       "    <tr>\n",
       "      <th>std</th>\n",
       "      <td>26.124701</td>\n",
       "      <td>7.017332</td>\n",
       "      <td>6.803135</td>\n",
       "      <td>6.638743</td>\n",
       "      <td>19.843835</td>\n",
       "    </tr>\n",
       "    <tr>\n",
       "      <th>min</th>\n",
       "      <td>1.000000</td>\n",
       "      <td>0.000000</td>\n",
       "      <td>0.000000</td>\n",
       "      <td>0.000000</td>\n",
       "      <td>1.000000</td>\n",
       "    </tr>\n",
       "    <tr>\n",
       "      <th>25%</th>\n",
       "      <td>23.250000</td>\n",
       "      <td>0.000000</td>\n",
       "      <td>0.000000</td>\n",
       "      <td>1.000000</td>\n",
       "      <td>2.000000</td>\n",
       "    </tr>\n",
       "    <tr>\n",
       "      <th>50%</th>\n",
       "      <td>45.500000</td>\n",
       "      <td>1.000000</td>\n",
       "      <td>1.000000</td>\n",
       "      <td>2.000000</td>\n",
       "      <td>5.000000</td>\n",
       "    </tr>\n",
       "    <tr>\n",
       "      <th>75%</th>\n",
       "      <td>67.750000</td>\n",
       "      <td>3.000000</td>\n",
       "      <td>3.000000</td>\n",
       "      <td>5.000000</td>\n",
       "      <td>9.000000</td>\n",
       "    </tr>\n",
       "    <tr>\n",
       "      <th>max</th>\n",
       "      <td>90.000000</td>\n",
       "      <td>40.000000</td>\n",
       "      <td>44.000000</td>\n",
       "      <td>43.000000</td>\n",
       "      <td>127.000000</td>\n",
       "    </tr>\n",
       "  </tbody>\n",
       "</table>\n",
       "</div>"
      ],
      "text/plain": [
       "        Position       Gold     Silver     Bronze  Total Medals\n",
       "count  90.000000  90.000000  90.000000  90.000000     90.000000\n",
       "mean   45.500000   3.644444   3.622222   4.288889     11.555556\n",
       "std    26.124701   7.017332   6.803135   6.638743     19.843835\n",
       "min     1.000000   0.000000   0.000000   0.000000      1.000000\n",
       "25%    23.250000   0.000000   0.000000   1.000000      2.000000\n",
       "50%    45.500000   1.000000   1.000000   2.000000      5.000000\n",
       "75%    67.750000   3.000000   3.000000   5.000000      9.000000\n",
       "max    90.000000  40.000000  44.000000  43.000000    127.000000"
      ]
     },
     "execution_count": 8,
     "metadata": {},
     "output_type": "execute_result"
    }
   ],
   "source": [
    "df.describe()"
   ]
  },
  {
   "cell_type": "code",
   "execution_count": null,
   "id": "8da20b25-5a31-42f3-84e9-69cb4a4cbf59",
   "metadata": {},
   "outputs": [],
   "source": [
    "df.isnull()"
   ]
  },
  {
   "cell_type": "code",
   "execution_count": 10,
   "id": "4f4539b3-3dba-47a2-8aab-e1130a75bf87",
   "metadata": {},
   "outputs": [
    {
     "data": {
      "text/plain": [
       "Position        0\n",
       "Country         0\n",
       "Gold            0\n",
       "Silver          0\n",
       "Bronze          0\n",
       "Total Medals    0\n",
       "dtype: int64"
      ]
     },
     "execution_count": 10,
     "metadata": {},
     "output_type": "execute_result"
    }
   ],
   "source": [
    "df.isnull().sum()"
   ]
  },
  {
   "cell_type": "markdown",
   "id": "487bb2bf-301f-4b38-b88a-b3b90298de5a",
   "metadata": {},
   "source": [
    "### medal distribution by cuntry"
   ]
  },
  {
   "cell_type": "code",
   "execution_count": null,
   "id": "c68a0c49-18d8-4168-8065-0731877c7dea",
   "metadata": {},
   "outputs": [],
   "source": []
  },
  {
   "cell_type": "code",
   "execution_count": null,
   "id": "e30997cf-28a4-422d-8025-f95979030489",
   "metadata": {},
   "outputs": [],
   "source": [
    "df_cleaned = df.dropna()  # Example of cleaning a DataFrame by dropping missing values\n",
    "\n",
    "medal_distribution = df_cleaned.groupby('Country')['Total Medals'].sum().sort_values(ascending=False)\n",
    "display(medal_distribution)\n"
   ]
  },
  {
   "cell_type": "code",
   "execution_count": 17,
   "id": "e2375696-380a-4aab-93c5-9729a2262c22",
   "metadata": {},
   "outputs": [
    {
     "data": {
      "text/plain": [
       "Country\n",
       "United States (USA)     127\n",
       "China (CHN)              91\n",
       "United Kingdom (GBR)     65\n",
       "France (FRA)             64\n",
       "Australia (AUS)          53\n",
       "Name: Total Medals, dtype: int64"
      ]
     },
     "execution_count": 17,
     "metadata": {},
     "output_type": "execute_result"
    }
   ],
   "source": [
    "medal_distribution.head()"
   ]
  },
  {
   "cell_type": "code",
   "execution_count": 3,
   "id": "047c96b0-588d-49f0-8a8e-1fee6e085514",
   "metadata": {},
   "outputs": [
    {
     "ename": "NameError",
     "evalue": "name 'df_cleaned' is not defined",
     "output_type": "error",
     "traceback": [
      "\u001b[1;31m---------------------------------------------------------------------------\u001b[0m",
      "\u001b[1;31mNameError\u001b[0m                                 Traceback (most recent call last)",
      "Cell \u001b[1;32mIn[3], line 1\u001b[0m\n\u001b[1;32m----> 1\u001b[0m correlation \u001b[38;5;241m=\u001b[39m df_cleaned[[\u001b[38;5;124m'\u001b[39m\u001b[38;5;124mGold\u001b[39m\u001b[38;5;124m'\u001b[39m, \u001b[38;5;124m'\u001b[39m\u001b[38;5;124mSilver\u001b[39m\u001b[38;5;124m'\u001b[39m, \u001b[38;5;124m'\u001b[39m\u001b[38;5;124mBronze\u001b[39m\u001b[38;5;124m'\u001b[39m]]\u001b[38;5;241m.\u001b[39mcorr()\n\u001b[0;32m      2\u001b[0m \u001b[38;5;28mprint\u001b[39m(\u001b[38;5;124m\"\u001b[39m\u001b[38;5;130;01m\\n\u001b[39;00m\u001b[38;5;124mCorrelation Between Medal Types:\u001b[39m\u001b[38;5;124m\"\u001b[39m)\n\u001b[0;32m      3\u001b[0m display(correlation)\n",
      "\u001b[1;31mNameError\u001b[0m: name 'df_cleaned' is not defined"
     ]
    }
   ],
   "source": [
    "correlation = df_cleaned[['Gold', 'Silver', 'Bronze']].corr()\n",
    "print(\"\\nCorrelation Between Medal Types:\")\n",
    "display(correlation)"
   ]
  },
  {
   "cell_type": "code",
   "execution_count": null,
   "id": "d695ee2b-2dbf-4484-9090-ecf63044c62a",
   "metadata": {},
   "outputs": [],
   "source": []
  },
  {
   "cell_type": "code",
   "execution_count": null,
   "id": "04ccb33f-08bc-4418-a23d-4db9dc4b6db6",
   "metadata": {},
   "outputs": [],
   "source": []
  },
  {
   "cell_type": "code",
   "execution_count": null,
   "id": "ff851222-4a55-4b1e-95f8-bfb3e7b0968c",
   "metadata": {},
   "outputs": [],
   "source": []
  },
  {
   "cell_type": "code",
   "execution_count": null,
   "id": "e7678998-8289-47f4-b42b-e93808beb456",
   "metadata": {},
   "outputs": [],
   "source": []
  }
 ],
 "metadata": {
  "kernelspec": {
   "display_name": "Python 3 (ipykernel)",
   "language": "python",
   "name": "python3"
  },
  "language_info": {
   "codemirror_mode": {
    "name": "ipython",
    "version": 3
   },
   "file_extension": ".py",
   "mimetype": "text/x-python",
   "name": "python",
   "nbconvert_exporter": "python",
   "pygments_lexer": "ipython3",
   "version": "3.11.5"
  },
  "widgets": {
   "application/vnd.jupyter.widget-state+json": {
    "state": {},
    "version_major": 2,
    "version_minor": 0
   }
  }
 },
 "nbformat": 4,
 "nbformat_minor": 5
}
